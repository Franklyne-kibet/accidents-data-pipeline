{
 "cells": [
  {
   "cell_type": "code",
   "execution_count": 1,
   "id": "02f79c30",
   "metadata": {},
   "outputs": [],
   "source": [
    "import os\n",
    "import pandas as pd\n",
    "import pyspark\n",
    "from pyspark.sql import SparkSession"
   ]
  },
  {
   "cell_type": "code",
   "execution_count": 2,
   "id": "d37a17fb",
   "metadata": {},
   "outputs": [
    {
     "name": "stderr",
     "output_type": "stream",
     "text": [
      "Setting default log level to \"WARN\".\n",
      "To adjust logging level use sc.setLogLevel(newLevel). For SparkR, use setLogLevel(newLevel).\n"
     ]
    },
    {
     "name": "stdout",
     "output_type": "stream",
     "text": [
      "23/03/07 08:01:12 WARN NativeCodeLoader: Unable to load native-hadoop library for your platform... using builtin-java classes where applicable\n"
     ]
    }
   ],
   "source": [
    "spark = SparkSession.builder \\\n",
    "    .master(\"local[*]\") \\\n",
    "    .appName('test') \\\n",
    "    .config(\"spark.driver.memory\", \"2g\") \\\n",
    "    .getOrCreate()"
   ]
  },
  {
   "cell_type": "code",
   "execution_count": 3,
   "id": "47a9b1db",
   "metadata": {},
   "outputs": [
    {
     "name": "stdout",
     "output_type": "stream",
     "text": [
      "Warning: Your Kaggle API key is readable by other users on this system! To fix this, you can run 'chmod 600 /home/franklyne/.kaggle/kaggle.json'\n",
      "Downloading us-accidents.zip to data\n"
     ]
    },
    {
     "name": "stderr",
     "output_type": "stream",
     "text": [
      " 78%|███████▊  | 209M/269M [00:00<00:00, 292MB/s] "
     ]
    },
    {
     "name": "stdout",
     "output_type": "stream",
     "text": [
      "\n"
     ]
    },
    {
     "name": "stderr",
     "output_type": "stream",
     "text": [
      "\r\n",
      " 88%|████████▊ | 238M/269M [00:00<00:00, 291MB/s]\r\n",
      " 99%|█████████▉| 267M/269M [00:00<00:00, 295MB/s]\r\n",
      "100%|██████████| 269M/269M [00:00<00:00, 288MB/s]\n"
     ]
    },
    {
     "data": {
      "text/plain": [
       "0"
      ]
     },
     "execution_count": 3,
     "metadata": {},
     "output_type": "execute_result"
    }
   ],
   "source": [
    "# Set the dataset and file paths\n",
    "csv_file = 'data/us-accidents.csv'\n",
    "\n",
    "dataset_name = 'sobhanmoosavi/us-accidents'\n",
    "os.system(f'kaggle datasets download -d {dataset_name} -p data') "
   ]
  },
  {
   "cell_type": "code",
   "execution_count": 4,
   "id": "1a047740",
   "metadata": {},
   "outputs": [
    {
     "name": "stdout",
     "output_type": "stream",
     "text": [
      "\r\n",
      "gzip: data/us-accidents.zip: invalid compressed data--length error\r\n"
     ]
    }
   ],
   "source": [
    "!zcat data/us-accidents.zip > data/us-accidents.csv"
   ]
  },
  {
   "cell_type": "code",
   "execution_count": 5,
   "id": "8e78f0be",
   "metadata": {},
   "outputs": [],
   "source": [
    "df_accidents_pd = pd.read_csv(csv_file, nrows=100)"
   ]
  },
  {
   "cell_type": "code",
   "execution_count": 6,
   "id": "8693a896",
   "metadata": {},
   "outputs": [],
   "source": [
    "df_accidents_pd['Weather_Condition'] = df_accidents_pd['Weather_Condition'].astype('str')\n",
    "df_accidents_pd = df_accidents_pd.rename(columns={\n",
    "        'Distance(mi)': 'Distance_miles',\n",
    "        'Temperature(F)': 'Temperature_F',\n",
    "        'Wind_Chill(F)': 'Wind_Chill_F',\n",
    "        'Humidity(%)': 'Humidity_perc',\n",
    "        'Pressure(in)': 'Pressure_inches',\n",
    "        'Visibility(mi)': 'Visibility_miles',\n",
    "        'Wind_Speed(mph)': 'Wind_Speed_mph',\n",
    "        'Precipitation(in)': 'Precipitation_inches'\n",
    "    })"
   ]
  },
  {
   "cell_type": "code",
   "execution_count": 7,
   "id": "da13d30d",
   "metadata": {
    "scrolled": true
   },
   "outputs": [
    {
     "data": {
      "text/plain": [
       "StructType([StructField('ID', StringType(), True), StructField('Severity', LongType(), True), StructField('Start_Time', StringType(), True), StructField('End_Time', StringType(), True), StructField('Start_Lat', DoubleType(), True), StructField('Start_Lng', DoubleType(), True), StructField('End_Lat', DoubleType(), True), StructField('End_Lng', DoubleType(), True), StructField('Distance_miles', DoubleType(), True), StructField('Description', StringType(), True), StructField('Number', DoubleType(), True), StructField('Street', StringType(), True), StructField('Side', StringType(), True), StructField('City', StringType(), True), StructField('County', StringType(), True), StructField('State', StringType(), True), StructField('Zipcode', StringType(), True), StructField('Country', StringType(), True), StructField('Timezone', StringType(), True), StructField('Airport_Code', StringType(), True), StructField('Weather_Timestamp', StringType(), True), StructField('Temperature_F', DoubleType(), True), StructField('Wind_Chill_F', DoubleType(), True), StructField('Humidity_perc', DoubleType(), True), StructField('Pressure_inches', DoubleType(), True), StructField('Visibility_miles', DoubleType(), True), StructField('Wind_Direction', StringType(), True), StructField('Wind_Speed_mph', DoubleType(), True), StructField('Precipitation_inches', DoubleType(), True), StructField('Weather_Condition', StringType(), True), StructField('Amenity', BooleanType(), True), StructField('Bump', BooleanType(), True), StructField('Crossing', BooleanType(), True), StructField('Give_Way', BooleanType(), True), StructField('Junction', BooleanType(), True), StructField('No_Exit', BooleanType(), True), StructField('Railway', BooleanType(), True), StructField('Roundabout', BooleanType(), True), StructField('Station', BooleanType(), True), StructField('Stop', BooleanType(), True), StructField('Traffic_Calming', BooleanType(), True), StructField('Traffic_Signal', BooleanType(), True), StructField('Turning_Loop', BooleanType(), True), StructField('Sunrise_Sunset', StringType(), True), StructField('Civil_Twilight', StringType(), True), StructField('Nautical_Twilight', StringType(), True), StructField('Astronomical_Twilight', StringType(), True)])"
      ]
     },
     "execution_count": 7,
     "metadata": {},
     "output_type": "execute_result"
    }
   ],
   "source": [
    "spark.createDataFrame(df_accidents_pd).schema"
   ]
  },
  {
   "cell_type": "code",
   "execution_count": 8,
   "id": "e07697b6",
   "metadata": {},
   "outputs": [],
   "source": [
    "from pyspark.sql import types"
   ]
  },
  {
   "cell_type": "code",
   "execution_count": 9,
   "id": "a3322572",
   "metadata": {},
   "outputs": [],
   "source": [
    "accidents_schema = types.StructType([\n",
    "    types.StructField('ID', types.StringType(), True),\n",
    "    types.StructField('Severity', types.IntegerType(), True),\n",
    "    types.StructField('Start_Time', types.TimestampType(), True),\n",
    "    types.StructField('End_Time', types.TimestampType(), True),\n",
    "    types.StructField('Start_Lat', types.DoubleType(), True),\n",
    "    types.StructField('Start_Lng', types.DoubleType(), True),\n",
    "    types.StructField('End_Lat', types.DoubleType(), True),\n",
    "    types.StructField('End_Lng', types.DoubleType(), True),\n",
    "    types.StructField('Distance_miles', types.DoubleType(), True),\n",
    "    types.StructField('Description', types.StringType(), True),\n",
    "    types.StructField('Number', types.DoubleType(), True),\n",
    "    types.StructField('Street', types.StringType(), True),\n",
    "    types.StructField('Side', types.StringType(), True),\n",
    "    types.StructField('City', types.StringType(), True),\n",
    "    types.StructField('County', types.StringType(), True),\n",
    "    types.StructField('State', types.StringType(), True),\n",
    "    types.StructField('Zipcode', types.StringType(), True),\n",
    "    types.StructField('Country', types.StringType(), True),\n",
    "    types.StructField('Timezone', types.StringType(), True),\n",
    "    types.StructField('Airport_Code', types.StringType(), True),\n",
    "    types.StructField('Weather_Timestamp', types.TimestampType(), True),\n",
    "    types.StructField('Temperature_F', types.DoubleType(), True),\n",
    "    types.StructField('Wind_Chill_F', types.DoubleType(), True),\n",
    "    types.StructField('Humidity_perc', types.DoubleType(), True),\n",
    "    types.StructField('Pressure_inches', types.DoubleType(), True),\n",
    "    types.StructField('Visibility_miles', types.DoubleType(), True),\n",
    "    types.StructField('Wind_Direction', types.StringType(), True),\n",
    "    types.StructField('Wind_Speed_mph', types.DoubleType(), True),\n",
    "    types.StructField('Precipitation_inches', types.DoubleType(), True),\n",
    "    types.StructField('Weather_Condition', types.StringType(), True),\n",
    "    types.StructField('Amenity', types.BooleanType(), True),\n",
    "    types.StructField('Bump', types.BooleanType(), True),\n",
    "    types.StructField('Crossing', types.BooleanType(), True),\n",
    "    types.StructField('Give_Way', types.BooleanType(), True),\n",
    "    types.StructField('Junction', types.BooleanType(), True),\n",
    "    types.StructField('No_Exit', types.BooleanType(), True),\n",
    "    types.StructField('Railway', types.BooleanType(), True),\n",
    "    types.StructField('Roundabout', types.BooleanType(), True),\n",
    "    types.StructField('Station', types.BooleanType(), True),\n",
    "    types.StructField('Stop', types.BooleanType(), True),\n",
    "    types.StructField('Traffic_Calming', types.BooleanType(), True),\n",
    "    types.StructField('Traffic_Signal', types.BooleanType(), True),\n",
    "    types.StructField('Turning_Loop', types.BooleanType(), True),\n",
    "    types.StructField('Sunrise_Sunset', types.StringType(), True),\n",
    "    types.StructField('Civil_Twilight', types.StringType(), True),\n",
    "    types.StructField('Nautical_Twilight', types.StringType(), True),\n",
    "    types.StructField('Astronomical_Twilight', types.StringType(), True)\n",
    "])"
   ]
  },
  {
   "cell_type": "code",
   "execution_count": 10,
   "id": "2becea08",
   "metadata": {},
   "outputs": [
    {
     "name": "stdout",
     "output_type": "stream",
     "text": [
      "23/03/07 08:02:37 WARN package: Truncated the string representation of a plan since it was too large. This behavior can be adjusted by setting 'spark.sql.debug.maxToStringFields'.\n"
     ]
    },
    {
     "name": "stderr",
     "output_type": "stream",
     "text": [
      "\r\n",
      "[Stage 0:>                                                          (0 + 4) / 9]\r"
     ]
    },
    {
     "name": "stdout",
     "output_type": "stream",
     "text": [
      "23/03/07 08:02:39 WARN CSVHeaderChecker: CSV header does not conform to the schema.\n",
      " Header: ID, Severity, Start_Time, End_Time, Start_Lat, Start_Lng, End_Lat, End_Lng, Distance(mi), Description, Number, Street, Side, City, County, State, Zipcode, Country, Timezone, Airport_Code, Weather_Timestamp, Temperature(F), Wind_Chill(F), Humidity(%), Pressure(in), Visibility(mi), Wind_Direction, Wind_Speed(mph), Precipitation(in), Weather_Condition, Amenity, Bump, Crossing, Give_Way, Junction, No_Exit, Railway, Roundabout, Station, Stop, Traffic_Calming, Traffic_Signal, Turning_Loop, Sunrise_Sunset, Civil_Twilight, Nautical_Twilight, Astronomical_Twilight\n",
      " Schema: ID, Severity, Start_Time, End_Time, Start_Lat, Start_Lng, End_Lat, End_Lng, Distance_miles, Description, Number, Street, Side, City, County, State, Zipcode, Country, Timezone, Airport_Code, Weather_Timestamp, Temperature_F, Wind_Chill_F, Humidity_perc, Pressure_inches, Visibility_miles, Wind_Direction, Wind_Speed_mph, Precipitation_inches, Weather_Condition, Amenity, Bump, Crossing, Give_Way, Junction, No_Exit, Railway, Roundabout, Station, Stop, Traffic_Calming, Traffic_Signal, Turning_Loop, Sunrise_Sunset, Civil_Twilight, Nautical_Twilight, Astronomical_Twilight\n",
      "Expected: Distance_miles but found: Distance(mi)\n",
      "CSV file: file:///home/franklyne/de-zoomcamp-project/workflow_orchestration/pyspark/data/us-accidents.csv\n"
     ]
    },
    {
     "name": "stderr",
     "output_type": "stream",
     "text": [
      "                                                                                \r"
     ]
    }
   ],
   "source": [
    "input_path = \"data/us-accidents.csv\"\n",
    "output_path = \"data/pq/\"\n",
    "\n",
    "df_accidents = spark.read \\\n",
    "    .option(\"header\",\"true\") \\\n",
    "    .schema(accidents_schema) \\\n",
    "    .csv(input_path) \\\n",
    "\n",
    "df_accidents \\\n",
    "    .repartition(24) \\\n",
    "    .write.parquet(output_path, mode='overwrite')"
   ]
  },
  {
   "cell_type": "code",
   "execution_count": 12,
   "id": "c4cc6c27",
   "metadata": {},
   "outputs": [
    {
     "name": "stdout",
     "output_type": "stream",
     "text": [
      "root\n",
      " |-- ID: string (nullable = true)\n",
      " |-- Severity: integer (nullable = true)\n",
      " |-- Start_Time: timestamp (nullable = true)\n",
      " |-- End_Time: timestamp (nullable = true)\n",
      " |-- Start_Lat: double (nullable = true)\n",
      " |-- Start_Lng: double (nullable = true)\n",
      " |-- End_Lat: double (nullable = true)\n",
      " |-- End_Lng: double (nullable = true)\n",
      " |-- Distance_miles: double (nullable = true)\n",
      " |-- Description: string (nullable = true)\n",
      " |-- Number: double (nullable = true)\n",
      " |-- Street: string (nullable = true)\n",
      " |-- Side: string (nullable = true)\n",
      " |-- City: string (nullable = true)\n",
      " |-- County: string (nullable = true)\n",
      " |-- State: string (nullable = true)\n",
      " |-- Zipcode: string (nullable = true)\n",
      " |-- Country: string (nullable = true)\n",
      " |-- Timezone: string (nullable = true)\n",
      " |-- Airport_Code: string (nullable = true)\n",
      " |-- Weather_Timestamp: timestamp (nullable = true)\n",
      " |-- Temperature_F: double (nullable = true)\n",
      " |-- Wind_Chill_F: double (nullable = true)\n",
      " |-- Humidity_perc: double (nullable = true)\n",
      " |-- Pressure_inches: double (nullable = true)\n",
      " |-- Visibility_miles: double (nullable = true)\n",
      " |-- Wind_Direction: string (nullable = true)\n",
      " |-- Wind_Speed_mph: double (nullable = true)\n",
      " |-- Precipitation_inches: double (nullable = true)\n",
      " |-- Weather_Condition: string (nullable = true)\n",
      " |-- Amenity: boolean (nullable = true)\n",
      " |-- Bump: boolean (nullable = true)\n",
      " |-- Crossing: boolean (nullable = true)\n",
      " |-- Give_Way: boolean (nullable = true)\n",
      " |-- Junction: boolean (nullable = true)\n",
      " |-- No_Exit: boolean (nullable = true)\n",
      " |-- Railway: boolean (nullable = true)\n",
      " |-- Roundabout: boolean (nullable = true)\n",
      " |-- Station: boolean (nullable = true)\n",
      " |-- Stop: boolean (nullable = true)\n",
      " |-- Traffic_Calming: boolean (nullable = true)\n",
      " |-- Traffic_Signal: boolean (nullable = true)\n",
      " |-- Turning_Loop: boolean (nullable = true)\n",
      " |-- Sunrise_Sunset: string (nullable = true)\n",
      " |-- Civil_Twilight: string (nullable = true)\n",
      " |-- Nautical_Twilight: string (nullable = true)\n",
      " |-- Astronomical_Twilight: string (nullable = true)\n",
      "\n"
     ]
    }
   ],
   "source": [
    "df_accidents.printSchema()"
   ]
  }
 ],
 "metadata": {
  "kernelspec": {
   "display_name": "Python 3 (ipykernel)",
   "language": "python",
   "name": "python3"
  },
  "language_info": {
   "codemirror_mode": {
    "name": "ipython",
    "version": 3
   },
   "file_extension": ".py",
   "mimetype": "text/x-python",
   "name": "python",
   "nbconvert_exporter": "python",
   "pygments_lexer": "ipython3",
   "version": "3.9.13"
  }
 },
 "nbformat": 4,
 "nbformat_minor": 5
}
